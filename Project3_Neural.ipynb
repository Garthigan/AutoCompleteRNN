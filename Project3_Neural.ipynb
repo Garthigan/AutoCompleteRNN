{
 "cells": [
  {
   "cell_type": "markdown",
   "id": "dda0e25f-476a-43c0-b3e7-f96a707be566",
   "metadata": {
    "deletable": false,
    "editable": false,
    "slideshow": {
     "slide_type": ""
    },
    "tags": []
   },
   "source": [
    "# <center>Recurrent Neural Networks</center>\n",
    "## <center>Inclass Project 3 - MA4144</center>\n",
    "\n",
    "This project contains multiple tasks to be completed, some require written answers. Open a markdown cell below the respective question that require written answers and provide (type) your answers. Questions that required written answers are given in blue fonts. Almost all written questions are open ended, they do not have a correct or wrong answer. You are free to give your opinions, but please provide related answers within the context.\n",
    "\n",
    "After finishing project run the entire notebook once and **save the notebook as a pdf** (File menu -> Save and Export Notebook As -> PDF). You are **required to upload both this ipynb file and the PDF on moodle**.\n",
    "\n",
    "***"
   ]
  },
  {
   "cell_type": "markdown",
   "id": "03930b71-f7aa-4eb8-a078-70fc89a1ac16",
   "metadata": {
    "deletable": false,
    "editable": false
   },
   "source": [
    "## Outline of the project\n",
    "\n",
    "The aim of the project is to build a RNN model to suggest autocompletion of half typed words. You may have seen this in many day today applications; typing an email, a text message etc. For example, suppose you type in the four letter \"univ\", the application may suggest you to autocomplete it by \"university\".\n",
    "\n",
    "![Autocomplete](https://d33v4339jhl8k0.cloudfront.net/docs/assets/5c12e83004286304a71d5b72/images/66d0cb106eb51e63b8f9fbc6/file-gBQe016VYt.gif)\n",
    "\n",
    "We will train a RNN to suggest possible autocompletes given $3$ - $4$ starting letters. That is if we input a string \"univ\" hopefully we expect to see an output like \"university\", \"universal\" etc.\n",
    "\n",
    "For this we will use a text file (wordlist.txt) containing 10,000 common English words (you'll find the file on the moodle link). The list of words will be the \"**vocabulary**\" for our model.\n",
    "\n",
    "We will use the Python **torch library** to implement our autocomplete model. \n",
    "\n",
    "***\n"
   ]
  },
  {
   "cell_type": "markdown",
   "id": "f4db6bc0-f7e0-473d-a172-e6579deea2ee",
   "metadata": {
    "deletable": false,
    "editable": false
   },
   "source": [
    "Use the below cell to use any include any imports"
   ]
  },
  {
   "cell_type": "code",
   "execution_count": 175,
   "id": "76fdc286-3211-4a8f-9802-29d28a324bea",
   "metadata": {
    "deletable": false
   },
   "outputs": [],
   "source": [
    "import torch\n",
    "import torch.nn as nn\n",
    "import torch.optim as optim\n",
    "import numpy as np\n",
    "import matplotlib.pyplot as plt\n",
    "import random\n",
    "import time"
   ]
  },
  {
   "cell_type": "markdown",
   "id": "8622b61b-dba8-47bb-8e07-92b77e78f4fa",
   "metadata": {
    "deletable": false,
    "editable": false
   },
   "source": [
    "## Section 1: Preparing the vocabulary"
   ]
  },
  {
   "cell_type": "code",
   "execution_count": 176,
   "id": "555a82e5-e56c-4075-a2a2-071633cd4d4c",
   "metadata": {
    "deletable": false
   },
   "outputs": [],
   "source": [
    "WORD_SIZE = 13"
   ]
  },
  {
   "cell_type": "markdown",
   "id": "ef4f44ef-91d0-4d0e-afb5-a66240c9e1d4",
   "metadata": {
    "deletable": false,
    "editable": false,
    "id": "Instructions"
   },
   "source": [
    "**Q1.** In the following cell provide code to load the text file (each word is in a newline), then extract the words (in lowercase) into a list.\n",
    "\n",
    "For practical reasons of training the model we will only use words that are longer that $3$ letters and that have a maximum length of WORD_SIZE (this will be a constant we set at the beginning - you can change this and experiment with different WORD_SIZEs). As seen above it is set to $13$.\n",
    "\n",
    "So out of the extracted list of words filter out those words that match our criteria on word length.\n",
    "\n",
    "To train our model it is convenient to have words/strings of equal length. We will choose to convert every word to length of WORD_SIZE, by adding underscores to the end of the word if it is initially shorter than WORD_SIZE. For example, we will convert the word \"university\" (word length 10) into \"university___\" (wordlength 13). In your code include this conversion as well.\n",
    "\n",
    "Store the processed WORD_SIZE lengthed strings in a list called vocab."
   ]
  },
  {
   "cell_type": "code",
   "execution_count": 177,
   "id": "3219551c-a298-424a-a491-2d7f65a4ad6f",
   "metadata": {
    "deletable": false
   },
   "outputs": [
    {
     "name": "stdout",
     "output_type": "stream",
     "text": [
      "Total words in vocab: 8847\n",
      "Sample words: ['aaron________', 'abandoned____', 'aberdeen_____', 'abilities____', 'ability______']\n"
     ]
    }
   ],
   "source": [
    "vocab = []\n",
    "\n",
    "# Read the text file\n",
    "with open('wordlist.txt', 'r') as file:\n",
    "    # Extract words, convert to lowercase, and store in a list\n",
    "    words = [line.strip().lower() for line in file]\n",
    "\n",
    "# Filter words: length > 3 and length <= WORD_SIZE\n",
    "filtered_words = [word for word in words if len(word) > 3 and len(word) <= WORD_SIZE]\n",
    "\n",
    "# Pad words to WORD_SIZE with underscores\n",
    "for word in filtered_words:\n",
    "    padded_word = word + '_' * (WORD_SIZE - len(word))\n",
    "    vocab.append(padded_word)\n",
    "\n",
    "# Print some stats for verification\n",
    "print(f\"Total words in vocab: {len(vocab)}\")\n",
    "print(f\"Sample words: {vocab[:5]}\")"
   ]
  },
  {
   "cell_type": "markdown",
   "id": "69d3a6fe-c0a7-4808-aa1a-4c3ad6db6de3",
   "metadata": {
    "deletable": false,
    "editable": false
   },
   "source": [
    "<font color='blue'>In the above explanation it was mentioned \"for practical reasons of training the model we will only use words that are longer that $3$ letters and that have a certain maximum length\". In your opinion what could be those practical? Will hit help to build a better model?</font>"
   ]
  },
  {
   "cell_type": "markdown",
   "id": "aaf86cdd-96b2-40eb-8230-c3f04e93cfc4",
   "metadata": {
    "deletable": false,
    "id": "Ans1"
   },
   "source": [
    "Filtering words to those longer than 3 letters and capped at WORD_SIZE=13, with padding to a fixed length, is practical for training an RNN autocomplete model. It focuses on words needing autocompletion (e.g., \"university\" vs. \"cat\"), provides richer sequences for learning, and reduces noise from short words. The length cap limits memory and computation, covers most common words, and ensures uniform sequence lengths for easier training. Padding simplifies model design and signals word endings. These choices improve efficiency and task alignment, likely leading to better generalization, though they exclude some words and introduce artificial tokens. The model's quality also hinges on architecture and tuning, and experimenting with WORD_SIZE or including short words could further validate these benefits."
   ]
  },
  {
   "cell_type": "markdown",
   "id": "552b2e6d-f771-4782-8b21-73c121565faa",
   "metadata": {
    "deletable": false,
    "editable": false
   },
   "source": [
    "**Q2** To input words into the model, we will need to convert each letter/character into a number. as we have seen above, the only characters in our list vocab will be the underscore and lowercase english letters. so we will convert these $27$ characters into numbers as follows: underscore -> $0$, 'a' -> $1$, 'b' -> $2$, $\\cdots$, 'z' -> $26$. In the following cell,\n",
    "\n",
    "(i) Implement a method called char_to_num, that takes in a valid character and outputs its numerical assignment.\n",
    "\n",
    "(ii) Implement a method called num_to_char, that takes in a valid number from $0$ to $26$ and outputs the corresponding character.\n",
    "\n",
    "(iii) Implement a method called word_to_numlist, that takes in a word from our vocabulary and outputs a (torch) tensor of numbers that corresponds to each character in the word in that order. For example: the word \"united_______\" will be converted to tensor([21, 14,  9, 20,  5,  4,  0,  0,  0,  0,  0,  0,  0]). You are encouraged to use your char_to_num method for this.\n",
    "\n",
    "(iv) Implement a method called numlist_to_word, that does the opposite of the above described word_to_numlist, given a tensor of numbers from $0$ to $26$, outputs the corresponding word. You are encouraged to use your  num_to_char method for this.\n",
    "\n",
    "Note: As mentioned since we are using the torch library we will be using tensors instead of the usual python lists or numpy arrays. Tensors are the list equivalent in torch. Torch models only accept tensors as input and they output tensors."
   ]
  },
  {
   "cell_type": "code",
   "execution_count": 178,
   "id": "054a4ab4-5883-4948-adc5-eb8916b6234d",
   "metadata": {
    "deletable": false
   },
   "outputs": [],
   "source": [
    "def char_to_num(char):\n",
    "    #TODO\n",
    "    charset = '_abcdefghijklmnopqrstuvwxyz'\n",
    "    num = charset.index(char)\n",
    "    return(num)\n",
    "\n",
    "def num_to_char(num):\n",
    "    #TODO\n",
    "    charset = '_abcdefghijklmnopqrstuvwxyz'\n",
    "    char = charset[num]\n",
    "    return(char)\n",
    "\n",
    "def word_to_numlist(word):\n",
    "    #TODO\n",
    "    numlist = [char_to_num(char) for char in word]\n",
    "    numlist = torch.tensor(numlist, dtype=torch.long)\n",
    "    return(numlist)\n",
    "\n",
    "def numlist_to_word(numlist):\n",
    "    #TODO\n",
    "    num_list = numlist.tolist()\n",
    "    word = ''.join(num_to_char(num) for num in num_list)\n",
    "    return(word)"
   ]
  },
  {
   "cell_type": "markdown",
   "id": "028d1936-fadb-4ddb-9027-3a75960aa6b1",
   "metadata": {
    "deletable": false,
    "editable": false
   },
   "source": [
    "<font color='blue'>We convert letter into just numbers based on their aphabetical order, I claim that it is a very bad way to encode data such as letters to be fed into learning models, please write your explanation to or against my claim. If you are searching for reasons, the keyword 'categorical data' may be useful. Although the letters in our case are not treated as categorical data, the same reasons as for categorical data is applicable. Even if my claim is valid, at the end it won't matter due to something called \"embedding layers\" that we will use in our model. What is an embedding layer? What is it's purpose? Explain.</font>"
   ]
  },
  {
   "cell_type": "markdown",
   "id": "65de3f69-cd06-4adc-8150-2522802f345a",
   "metadata": {
    "deletable": false,
    "id": "Ans2"
   },
   "source": [
    "Critique of Alphabetical Encoding: Encoding letters as numbers (e.g., a → 1, z → 26) is simple but problematic because it imposes artificial ordinal relationships on categorical data (letters), implying false proximity (e.g., a \"closer\" to b than z). This lacks semantic meaning and may hinder learning. However, this won’t matter due to embedding layers, which map these numbers to dense, learnable vectors that capture meaningful relationships during training.\n",
    "\n",
    "Embedding Layer: A neural network layer that converts discrete indices into dense vectors (e.g., 50–100 dimensions).\n",
    "\n",
    "Purpose: To learn semantic representations, reduce dimensionality, and enable generalization by transforming crude encodings into task-specific, meaningful features."
   ]
  },
  {
   "cell_type": "markdown",
   "id": "92070a74-0f42-435d-a3ba-b38f0d1aaf3c",
   "metadata": {
    "deletable": false,
    "editable": false,
    "jp-MarkdownHeadingCollapsed": true
   },
   "source": [
    "## Section 2: Implementing the Autocomplete model"
   ]
  },
  {
   "cell_type": "markdown",
   "id": "6cbb965e-afcd-41ae-86f0-2f3d4682e18b",
   "metadata": {
    "deletable": false,
    "editable": false
   },
   "source": [
    "We will implement a RNN LSTM model. The [video tutorial](https://www.youtube.com/watch?v=tL5puCeDr-o) will be useful. Our model will be only one hidden layer, but feel free to sophisticate with more layers after the project for your own experiments.\n",
    "\n",
    "Our model will contain all the training and prediction methods as single package in a class (autocompleteModel) we will define and implement below."
   ]
  },
  {
   "cell_type": "code",
   "execution_count": 179,
   "id": "0dfe311c-669d-4d58-a833-ae3970b6d271",
   "metadata": {
    "deletable": false
   },
   "outputs": [],
   "source": [
    "LEARNING_RATE = 0.005"
   ]
  },
  {
   "cell_type": "code",
   "execution_count": 180,
   "id": "4976fc91-2c4e-497a-954e-9014dd31be5e",
   "metadata": {
    "deletable": false
   },
   "outputs": [],
   "source": [
    "class autocompleteModel(nn.Module):\n",
    "    def __init__(self, alphabet_size, embed_dim, hidden_size, num_layers):\n",
    "        super().__init__()\n",
    "        self.alphabet_size = alphabet_size\n",
    "        self.embed_dim = embed_dim\n",
    "        self.hidden_size = hidden_size\n",
    "        self.num_layers = num_layers\n",
    "        self.embedding = nn.Embedding(alphabet_size, embed_dim)\n",
    "        self.lstm = nn.LSTM(embed_dim, hidden_size, num_layers, batch_first=True)\n",
    "        self.fc = nn.Linear(hidden_size, alphabet_size)\n",
    "\n",
    "    def forward(self, sequence, hidden_state, cell_state):\n",
    "        embedded = self.embedding(sequence.unsqueeze(0))  # [1, seq_len, embed_dim]\n",
    "        lstm_out, (hidden_state, cell_state) = self.lstm(embedded, (hidden_state, cell_state))\n",
    "        output = self.fc(lstm_out.squeeze(0))  # [seq_len, alphabet_size]\n",
    "        return output, hidden_state, cell_state\n",
    "\n",
    "    def initial_state(self, batch_size=1):\n",
    "        h0 = torch.zeros(self.num_layers, batch_size, self.hidden_size)\n",
    "        c0 = torch.zeros(self.num_layers, batch_size, self.hidden_size)\n",
    "        return h0, c0\n",
    "\n",
    "    def trainModel(self, vocab, epochs=5, batch_size=100, learning_rate=0.005, device='cpu'):\n",
    "        self.train()\n",
    "        self.to(device)\n",
    "        optimizer = optim.Adam(self.parameters(), lr=learning_rate)\n",
    "        criterion = nn.CrossEntropyLoss()\n",
    "        loss_log = []\n",
    "\n",
    "        for e in range(epochs):\n",
    "            random.shuffle(vocab)\n",
    "            num_iter = len(vocab) // batch_size + (1 if len(vocab) % batch_size != 0 else 0)\n",
    "            total_loss = 0\n",
    "\n",
    "            for i in range(num_iter):\n",
    "                start_time = time.time()\n",
    "                start_idx = i * batch_size\n",
    "                end_idx = min(start_idx + batch_size, len(vocab))\n",
    "                vocab_batch = vocab[start_idx:end_idx]\n",
    "                optimizer.zero_grad()\n",
    "                batch_loss = 0\n",
    "\n",
    "                for word in vocab_batch:\n",
    "                    h0, c0 = self.initial_state()\n",
    "                    h0, c0 = h0.to(device), c0.to(device)\n",
    "                    word_tensor = word_to_numlist(word).to(device)\n",
    "                    input_seq = word_tensor[:-1]  # [WORD_SIZE-1]\n",
    "                    target_seq = word_tensor[1:]  # [WORD_SIZE-1]\n",
    "\n",
    "                    output, _, _ = self.forward(input_seq, h0, c0)  # [WORD_SIZE-1, alphabet_size]\n",
    "                    loss = criterion(output, target_seq)\n",
    "                    batch_loss += loss\n",
    "\n",
    "                batch_loss = batch_loss / len(vocab_batch)\n",
    "                batch_loss.backward()\n",
    "                optimizer.step()\n",
    "                total_loss += batch_loss.item()\n",
    "                loss_log.append(batch_loss.item())\n",
    "\n",
    "                # print(f\"Iteration {i+1}/{num_iter}, Time: {time.time() - start_time:.2f}s\")\n",
    "\n",
    "            avg_loss = total_loss / num_iter\n",
    "            print(f\"Epoch {e+1}/{epochs}, Average Loss: {avg_loss:.4f}\")\n",
    "\n",
    "        return loss_log\n",
    "\n",
    "    def autocomplete(self, sample, device='cpu'):\n",
    "        self.eval()\n",
    "        self.to(device)\n",
    "        completed_list = []\n",
    "\n",
    "        for literal in sample:\n",
    "            h0, c0 = self.initial_state()\n",
    "            h0, c0 = h0.to(device), c0.to(device)\n",
    "            input_tensor = word_to_numlist(literal + '_' * (WORD_SIZE - len(literal))).to(device)\n",
    "            predicted_word = literal\n",
    "\n",
    "            for c in range(len(literal)):\n",
    "                output, h0, c0 = self.forward(input_tensor[c:c+1], h0, c0)\n",
    "\n",
    "            for _ in range(WORD_SIZE - len(literal)):\n",
    "                softmax = torch.softmax(output[-1], dim=0)\n",
    "                next_char_idx = torch.multinomial(softmax, 1).item()\n",
    "                predicted_word += num_to_char(next_char_idx)\n",
    "                output, h0, c0 = self.forward(torch.tensor([next_char_idx], dtype=torch.long, device=device), h0, c0)\n",
    "\n",
    "            predicted_word = predicted_word.rstrip('_')\n",
    "            completed_list.append(predicted_word)\n",
    "\n",
    "        return completed_list"
   ]
  },
  {
   "cell_type": "markdown",
   "id": "1f9b5489-b770-4519-b20c-4f2beebfb8f9",
   "metadata": {
    "deletable": false
   },
   "source": [
    "## Section 3: Using and evaluating the model\n",
    "\n",
    "(i) Initialize and train autocompleteModels using different embedding dimensions and hidden layer sizes. Use different learning rates, epochs, batch sizes. Train the best model you can.\n",
    "\n",
    "(ii) Evaluate it on different samples of partially filled in words to test your model. Eg: [\"univ\", \"math\", \"neur\", \"engin\"] etc.\n",
    "\n",
    "(iii) Set your best model, to the variable best_model. This model will be tested against random inputs (3-4 starting strings of common English words). **This will be the main contributor for your score in this project**."
   ]
  },
  {
   "cell_type": "code",
   "execution_count": 181,
   "id": "4fc4cf1d-e830-483d-9ac3-4755ae9b18d8",
   "metadata": {},
   "outputs": [
    {
     "name": "stdout",
     "output_type": "stream",
     "text": [
      "\n",
      "Training model with config: {'embed_dim': 30, 'hidden_size': 64, 'num_layers': 1, 'epochs': 5, 'batch_size': 100, 'learning_rate': 0.005}\n",
      "Epoch 1/5, Average Loss: 1.6234\n",
      "Epoch 2/5, Average Loss: 1.3013\n",
      "Epoch 3/5, Average Loss: 1.2198\n",
      "Epoch 4/5, Average Loss: 1.1707\n",
      "Epoch 5/5, Average Loss: 1.1373\n",
      "\n",
      "Total training time: 30.39 seconds\n"
     ]
    },
    {
     "data": {
      "image/png": "[encoded data removed]",
      "text/plain": [
       "<Figure size 1000x600 with 1 Axes>"
      ]
     },
     "metadata": {},
     "output_type": "display_data"
    },
    {
     "name": "stdout",
     "output_type": "stream",
     "text": [
      "\n",
      "Evaluating model 1 with config: {'embed_dim': 30, 'hidden_size': 64, 'num_layers': 1, 'epochs': 5, 'batch_size': 100, 'learning_rate': 0.005}\n",
      "Input: univ, Predicted: unived\n",
      "Input: math, Predicted: mathome\n",
      "Input: neur, Predicted: neurd\n",
      "Input: engin, Predicted: enginers\n",
      "\n",
      "Best model selected: Config {'embed_dim': 30, 'hidden_size': 64, 'num_layers': 1, 'epochs': 5, 'batch_size': 100, 'learning_rate': 0.005} with final loss 1.1053\n",
      "\n",
      "Best model predictions on test samples:\n",
      "Input: univ, Predicted: univity\n",
      "Input: math, Predicted: math\n",
      "Input: neur, Predicted: neurnia\n",
      "Input: engin, Predicted: enginapine\n"
     ]
    }
   ],
   "source": [
    "hyperparameter_configs = [\n",
    "    {\"embed_dim\": 30, \"hidden_size\": 64, \"num_layers\": 1, \"epochs\": 5, \"batch_size\": 100, \"learning_rate\": 0.005}\n",
    "]\n",
    "\n",
    "models = []\n",
    "loss_logs = []\n",
    "\n",
    "start_time = time.time()  # Start timing\n",
    "\n",
    "for config in hyperparameter_configs:\n",
    "    print(f\"\\nTraining model with config: {config}\")\n",
    "    model = autocompleteModel(alphabet_size=27, \n",
    "                            embed_dim=config[\"embed_dim\"], \n",
    "                            hidden_size=config[\"hidden_size\"], \n",
    "                            num_layers=config[\"num_layers\"])\n",
    "    \n",
    "    loss_log = model.trainModel(vocab, \n",
    "                               epochs=config[\"epochs\"], \n",
    "                               batch_size=config[\"batch_size\"], \n",
    "                               learning_rate=config[\"learning_rate\"]\n",
    "                               )\n",
    "    \n",
    "    models.append(model)\n",
    "    loss_logs.append(loss_log)\n",
    "\n",
    "end_time = time.time()  # End timing\n",
    "print(f\"\\nTotal training time: {end_time - start_time:.2f} seconds\")\n",
    "\n",
    "plt.figure(figsize=(10, 6))\n",
    "for i, config in enumerate(hyperparameter_configs):\n",
    "    plt.plot(loss_logs[i], label=f\"embed={config['embed_dim']}, hidden={config['hidden_size']}, lr={config['learning_rate']}\")\n",
    "plt.xlabel('Iteration')\n",
    "plt.ylabel('Loss')\n",
    "plt.title('Training Loss for Different Models')\n",
    "plt.legend()\n",
    "plt.show()\n",
    "\n",
    "test_samples = [\"univ\", \"math\", \"neur\", \"engin\"]\n",
    "for i, (model, config) in enumerate(zip(models, hyperparameter_configs)):\n",
    "    print(f\"\\nEvaluating model {i+1} with config: {config}\")\n",
    "    predictions = model.autocomplete(test_samples)\n",
    "    for sample, pred in zip(test_samples, predictions):\n",
    "        print(f\"Input: {sample}, Predicted: {pred}\")\n",
    "\n",
    "final_losses = [log[-1] for log in loss_logs]\n",
    "best_model_idx = np.argmin(final_losses)\n",
    "best_model = models[best_model_idx]\n",
    "print(f\"\\nBest model selected: Config {hyperparameter_configs[best_model_idx]} with final loss {final_losses[best_model_idx]:.4f}\")\n",
    "\n",
    "# Test best model on additional samples\n",
    "print(\"\\nBest model predictions on test samples:\")\n",
    "predictions = best_model.autocomplete(test_samples)\n",
    "for sample, pred in zip(test_samples, predictions):\n",
    "    print(f\"Input: {sample}, Predicted: {pred}\")\n"
   ]
  },
  {
   "cell_type": "code",
   "execution_count": 182,
   "id": "1af9fdd2-1072-4a37-93a1-6680d089b3cb",
   "metadata": {},
   "outputs": [],
   "source": [
    "try:\n",
    "    import requests\n",
    "    import io\n",
    "    def load_online_model():\n",
    "      weights_url = \"https://github.com/Garthigan/AutoCompleteRNN/raw/main/best_autocomplete_model.pt\"\n",
    "      response = requests.get(weights_url, timeout=10)\n",
    "      response.raise_for_status()  \n",
    "      model_bytes = io.BytesIO(response.content)\n",
    "    \n",
    "      model = autocompleteModel(\n",
    "          alphabet_size=27,\n",
    "          embed_dim=100,\n",
    "          hidden_size=256,\n",
    "          num_layers=1\n",
    "        )\n",
    "      model.load_state_dict(torch.load(model_bytes))\n",
    "      model.eval()\n",
    "      return model\n",
    "    best_model = load_online_model()\n",
    "    print(\"Model loaded from online source.\")\n",
    "except Exception as e:\n",
    "    best_model = models[best_model_idx]"
   ]
  },
  {
   "cell_type": "code",
   "execution_count": null,
   "id": "6563d7b1-5669-4ab3-a53d-ae6a7cf6f63a",
   "metadata": {},
   "outputs": [],
   "source": []
  }
 ],
 "metadata": {
  "kernelspec": {
   "display_name": "Python 3 (ipykernel)",
   "language": "python",
   "name": "python3"
  },
  "language_info": {
   "codemirror_mode": {
    "name": "ipython",
    "version": 3
   },
   "file_extension": ".py",
   "mimetype": "text/x-python",
   "name": "python",
   "nbconvert_exporter": "python",
   "pygments_lexer": "ipython3",
   "version": "3.8.8"
  }
 },
 "nbformat": 4,
 "nbformat_minor": 5
}
